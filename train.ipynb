{
 "cells": [
  {
   "cell_type": "code",
   "execution_count": 1,
   "metadata": {},
   "outputs": [
    {
     "name": "stdout",
     "output_type": "stream",
     "text": [
      "importing Jupyter notebook from model.ipynb\n"
     ]
    }
   ],
   "source": [
    "import torch\n",
    "import albumentations as A\n",
    "from albumentations.pytorch import ToTensorV2\n",
    "from tqdm import tqdm\n",
    "import torch.nn as nn\n",
    "import torch.optim as optim\n",
    "from utils import (\n",
    "    load_checkpoint,\n",
    "    save_checkpoint,\n",
    "    get_loaders,\n",
    "    check_accuracy,\n",
    "    save_predictions_as_imgs\n",
    ")\n",
    "import toml\n",
    "import import_ipynb\n",
    "from model import UNET\n",
    "import gc"
   ]
  },
  {
   "cell_type": "code",
   "execution_count": 2,
   "metadata": {},
   "outputs": [
    {
     "data": {
      "text/plain": [
       "'cuda'"
      ]
     },
     "execution_count": 2,
     "metadata": {},
     "output_type": "execute_result"
    }
   ],
   "source": [
    "# Loading hyperparameters\n",
    "with open('hp.toml', 'r') as f:\n",
    "    hp = toml.load(f)\n",
    "\n",
    "device = \"cuda\" if torch.cuda.is_available() else \"cpu\"\n",
    "device"
   ]
  },
  {
   "cell_type": "code",
   "execution_count": null,
   "metadata": {},
   "outputs": [],
   "source": [
    "def train(loader, model, optimizer, loss_fn, scaler):\n",
    "    loop = tqdm(loader)\n",
    "\n",
    "    for batch_idx, (data, targets) in enumerate(loop):\n",
    "        data = data.to(device=device)\n",
    "        targets = targets.float().unsqueeze(1).to(device=device)\n",
    "\n",
    "        with torch.cuda.amp.autocast():\n",
    "            predictions = model(data)\n",
    "            loss = loss_fn(predictions, targets)\n",
    "\n",
    "        optimizer.zero_grad()\n",
    "        scaler.scale(loss).backward()\n",
    "        scaler.step(optimizer)\n",
    "        scaler.update()\n",
    "\n",
    "        # update loop\n",
    "        loop.set_postfix(loss=loss.item())\n",
    "\n",
    "train_transform = A.Compose(\n",
    "    [\n",
    "        A.Resize(height=hp['IMAGE_HEIGHT'], width=hp['IMAGE_WIDTH']),\n",
    "        A.Normalize(\n",
    "            mean=[0.0, 0.0, 0.0],\n",
    "            std=[1.0, 1.0, 1.0],      # Normalized_Pixel = ((original_pixel/max_pixel_value) - mean)/std\n",
    "            max_pixel_value=255.0,\n",
    "        ),\n",
    "        ToTensorV2(),\n",
    "    ], is_check_shapes=False\n",
    ")\n",
    "\n",
    "val_transform = A.Compose(\n",
    "    [\n",
    "        A.Resize(height=hp['IMAGE_HEIGHT'], width=hp['IMAGE_WIDTH']),\n",
    "        A.Normalize(\n",
    "            mean=[0.0, 0.0, 0.0],\n",
    "            std=[1.0, 1.0, 1.0],      # Normalized_Pixel = ((original_pixel/max_pixel_value) - mean)/std\n",
    "            max_pixel_value=255.0,\n",
    "        ),\n",
    "        ToTensorV2(),\n",
    "    ], is_check_shapes=False\n",
    ")\n",
    "\n",
    "model = UNET(in_channels=3, out_channels=1).to(device)\n",
    "loss_fn = nn.BCEWithLogitsLoss()\n",
    "optim = optim.Adam(model.parameters(), lr = hp['LEARNING_RATE'])\n",
    "train_loader, val_loader = get_loaders(\n",
    "    hp['TRAIN_IMG_DIR'],\n",
    "    hp['TRAIN_MASK_DIR'],\n",
    "    hp['VAL_IMG_DIR'],\n",
    "    hp['VAL_MASK_DIR'],\n",
    "    hp['BATCH_SIZE'],\n",
    "    train_transform,\n",
    "    val_transform,\n",
    "    hp['NUM_WORKERS'],\n",
    "    hp['PIN_MEMORY'],\n",
    ")\n",
    "\n",
    "scaler = torch.cuda.amp.GradScaler()\n",
    "gc.collect()\n",
    "torch.cuda.empty_cache()\n",
    "acc = 0.0\n",
    "\n",
    "for epoch in range(hp['NUM_EPOCHS']):\n",
    "    train(train_loader,\n",
    "            model,\n",
    "            optim,\n",
    "            loss_fn,\n",
    "            scaler)\n",
    "    \n",
    "    curr_acc = check_accuracy(val_loader, model, device=device)\n",
    "\n",
    "    if curr_acc > acc:\n",
    "        acc = curr_acc\n",
    "        print('Saving new best model...')\n",
    "\n",
    "        # Saving the model\n",
    "        checkpoint = {\n",
    "            \"state_dict\": model.state_dict(),\n",
    "            \"optimizer\": optim.state_dict()\n",
    "        }\n",
    "\n",
    "        save_checkpoint(checkpoint)\n",
    "\n",
    "        save_predictions_as_imgs(\n",
    "            val_loader, model, device=device\n",
    "        )\n"
   ]
  }
 ],
 "metadata": {
  "kernelspec": {
   "display_name": "Python 3",
   "language": "python",
   "name": "python3"
  },
  "language_info": {
   "codemirror_mode": {
    "name": "ipython",
    "version": 3
   },
   "file_extension": ".py",
   "mimetype": "text/x-python",
   "name": "python",
   "nbconvert_exporter": "python",
   "pygments_lexer": "ipython3",
   "version": "3.11.5"
  }
 },
 "nbformat": 4,
 "nbformat_minor": 2
}
